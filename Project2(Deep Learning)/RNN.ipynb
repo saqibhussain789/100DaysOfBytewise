{
  "nbformat": 4,
  "nbformat_minor": 0,
  "metadata": {
    "colab": {
      "provenance": [],
      "gpuType": "T4"
    },
    "kernelspec": {
      "name": "python3",
      "display_name": "Python 3"
    },
    "language_info": {
      "name": "python"
    },
    "accelerator": "GPU"
  },
  "cells": [
    {
      "cell_type": "markdown",
      "source": [
        "1. Basic RNN Implementation"
      ],
      "metadata": {
        "id": "Rz39EYeV4GJM"
      }
    },
    {
      "cell_type": "code",
      "source": [
        "import numpy as np\n",
        "import tensorflow as tf\n",
        "from tensorflow.keras.datasets import imdb\n",
        "from tensorflow.keras.preprocessing import sequence\n",
        "from tensorflow.keras.models import Sequential\n",
        "from tensorflow.keras.layers import SimpleRNN, Dense, Embedding"
      ],
      "metadata": {
        "id": "Van_PIF84JF6"
      },
      "execution_count": 1,
      "outputs": []
    },
    {
      "cell_type": "code",
      "source": [
        "# Load and preprocess IMDB dataset\n",
        "max_features = 10000\n",
        "max_len = 500"
      ],
      "metadata": {
        "id": "e9Nn3K3z4TQk"
      },
      "execution_count": 2,
      "outputs": []
    },
    {
      "cell_type": "code",
      "source": [
        "(x_train, y_train), (x_test, y_test) = imdb.load_data(num_words=max_features)\n",
        "x_train = sequence.pad_sequences(x_train, maxlen=max_len)\n",
        "x_test = sequence.pad_sequences(x_test, maxlen=max_len)"
      ],
      "metadata": {
        "colab": {
          "base_uri": "https://localhost:8080/"
        },
        "id": "Tb-vgys94dsp",
        "outputId": "46294ab6-ec19-4e2e-9b6d-9f51b1e50d2b"
      },
      "execution_count": 3,
      "outputs": [
        {
          "output_type": "stream",
          "name": "stdout",
          "text": [
            "Downloading data from https://storage.googleapis.com/tensorflow/tf-keras-datasets/imdb.npz\n",
            "\u001b[1m17464789/17464789\u001b[0m \u001b[32m━━━━━━━━━━━━━━━━━━━━\u001b[0m\u001b[37m\u001b[0m \u001b[1m0s\u001b[0m 0us/step\n"
          ]
        }
      ]
    },
    {
      "cell_type": "code",
      "source": [
        "# Build the RNN model\n",
        "model = Sequential()\n",
        "model.add(Embedding(max_features, 32))\n",
        "model.add(SimpleRNN(32))\n",
        "model.add(Dense(1, activation='sigmoid'))"
      ],
      "metadata": {
        "id": "U3cAH7PN4fup"
      },
      "execution_count": 4,
      "outputs": []
    },
    {
      "cell_type": "code",
      "source": [
        "# Compile and train the model\n",
        "model.compile(optimizer='adam', loss='binary_crossentropy', metrics=['accuracy'])\n",
        "model.fit(x_train, y_train, epochs=5, batch_size=64, validation_split=0.2)"
      ],
      "metadata": {
        "colab": {
          "base_uri": "https://localhost:8080/"
        },
        "id": "z2NzGsvk4mPs",
        "outputId": "b553e2ad-a20e-4e09-c0d2-6a73387f87e1"
      },
      "execution_count": 5,
      "outputs": [
        {
          "output_type": "stream",
          "name": "stdout",
          "text": [
            "Epoch 1/5\n",
            "\u001b[1m313/313\u001b[0m \u001b[32m━━━━━━━━━━━━━━━━━━━━\u001b[0m\u001b[37m\u001b[0m \u001b[1m49s\u001b[0m 149ms/step - accuracy: 0.5508 - loss: 0.6828 - val_accuracy: 0.7860 - val_loss: 0.4927\n",
            "Epoch 2/5\n",
            "\u001b[1m313/313\u001b[0m \u001b[32m━━━━━━━━━━━━━━━━━━━━\u001b[0m\u001b[37m\u001b[0m \u001b[1m82s\u001b[0m 151ms/step - accuracy: 0.7877 - loss: 0.4579 - val_accuracy: 0.8124 - val_loss: 0.4342\n",
            "Epoch 3/5\n",
            "\u001b[1m313/313\u001b[0m \u001b[32m━━━━━━━━━━━━━━━━━━━━\u001b[0m\u001b[37m\u001b[0m \u001b[1m81s\u001b[0m 149ms/step - accuracy: 0.9110 - loss: 0.2328 - val_accuracy: 0.8100 - val_loss: 0.4581\n",
            "Epoch 4/5\n",
            "\u001b[1m313/313\u001b[0m \u001b[32m━━━━━━━━━━━━━━━━━━━━\u001b[0m\u001b[37m\u001b[0m \u001b[1m47s\u001b[0m 150ms/step - accuracy: 0.9691 - loss: 0.1021 - val_accuracy: 0.8070 - val_loss: 0.5278\n",
            "Epoch 5/5\n",
            "\u001b[1m313/313\u001b[0m \u001b[32m━━━━━━━━━━━━━━━━━━━━\u001b[0m\u001b[37m\u001b[0m \u001b[1m83s\u001b[0m 153ms/step - accuracy: 0.9921 - loss: 0.0379 - val_accuracy: 0.8200 - val_loss: 0.5918\n"
          ]
        },
        {
          "output_type": "execute_result",
          "data": {
            "text/plain": [
              "<keras.src.callbacks.history.History at 0x7bb8b2719090>"
            ]
          },
          "metadata": {},
          "execution_count": 5
        }
      ]
    },
    {
      "cell_type": "code",
      "source": [
        "# Evaluate the model\n",
        "test_loss, test_acc = model.evaluate(x_test, y_test)\n",
        "print(f\"Test Accuracy: {test_acc}\")"
      ],
      "metadata": {
        "colab": {
          "base_uri": "https://localhost:8080/"
        },
        "id": "jPjTPxxO4qs5",
        "outputId": "4ae9ab14-ae08-454b-ea03-e97b1c4ba5ce"
      },
      "execution_count": 6,
      "outputs": [
        {
          "output_type": "stream",
          "name": "stdout",
          "text": [
            "\u001b[1m782/782\u001b[0m \u001b[32m━━━━━━━━━━━━━━━━━━━━\u001b[0m\u001b[37m\u001b[0m \u001b[1m26s\u001b[0m 33ms/step - accuracy: 0.8264 - loss: 0.5683\n",
            "Test Accuracy: 0.8256400227546692\n"
          ]
        }
      ]
    },
    {
      "cell_type": "markdown",
      "source": [
        "2. Stacked RNN and Bi-directional RNN Implementation"
      ],
      "metadata": {
        "id": "pueOwcko4wg2"
      }
    },
    {
      "cell_type": "markdown",
      "source": [
        "Stacked RNN:"
      ],
      "metadata": {
        "id": "0PsZBrVG4xll"
      }
    },
    {
      "cell_type": "code",
      "source": [
        "# Stacked RNN model\n",
        "model_stacked = Sequential()\n",
        "model_stacked.add(Embedding(max_features, 32))\n",
        "model_stacked.add(SimpleRNN(32, return_sequences=True))  # First RNN layer (return_sequences=True)\n",
        "model_stacked.add(SimpleRNN(32))  # Second RNN layer\n",
        "model_stacked.add(Dense(1, activation='sigmoid'))"
      ],
      "metadata": {
        "id": "8w1MDd-14197"
      },
      "execution_count": 7,
      "outputs": []
    },
    {
      "cell_type": "code",
      "source": [
        "# Compile and train\n",
        "model_stacked.compile(optimizer='adam', loss='binary_crossentropy', metrics=['accuracy'])\n",
        "model_stacked.fit(x_train, y_train, epochs=5, batch_size=64, validation_split=0.2)"
      ],
      "metadata": {
        "colab": {
          "base_uri": "https://localhost:8080/"
        },
        "id": "Rkzw-xMS46P9",
        "outputId": "39fbf9f2-c588-40b7-d07e-14ad1c80b022"
      },
      "execution_count": 8,
      "outputs": [
        {
          "output_type": "stream",
          "name": "stdout",
          "text": [
            "Epoch 1/5\n",
            "\u001b[1m313/313\u001b[0m \u001b[32m━━━━━━━━━━━━━━━━━━━━\u001b[0m\u001b[37m\u001b[0m \u001b[1m94s\u001b[0m 290ms/step - accuracy: 0.5595 - loss: 0.6692 - val_accuracy: 0.8096 - val_loss: 0.4236\n",
            "Epoch 2/5\n",
            "\u001b[1m313/313\u001b[0m \u001b[32m━━━━━━━━━━━━━━━━━━━━\u001b[0m\u001b[37m\u001b[0m \u001b[1m146s\u001b[0m 304ms/step - accuracy: 0.8561 - loss: 0.3473 - val_accuracy: 0.5908 - val_loss: 0.6756\n",
            "Epoch 3/5\n",
            "\u001b[1m313/313\u001b[0m \u001b[32m━━━━━━━━━━━━━━━━━━━━\u001b[0m\u001b[37m\u001b[0m \u001b[1m136s\u001b[0m 284ms/step - accuracy: 0.8262 - loss: 0.3928 - val_accuracy: 0.7946 - val_loss: 0.4707\n",
            "Epoch 4/5\n",
            "\u001b[1m313/313\u001b[0m \u001b[32m━━━━━━━━━━━━━━━━━━━━\u001b[0m\u001b[37m\u001b[0m \u001b[1m142s\u001b[0m 285ms/step - accuracy: 0.9613 - loss: 0.1125 - val_accuracy: 0.8004 - val_loss: 0.5879\n",
            "Epoch 5/5\n",
            "\u001b[1m313/313\u001b[0m \u001b[32m━━━━━━━━━━━━━━━━━━━━\u001b[0m\u001b[37m\u001b[0m \u001b[1m146s\u001b[0m 300ms/step - accuracy: 0.9872 - loss: 0.0438 - val_accuracy: 0.7868 - val_loss: 0.7376\n"
          ]
        },
        {
          "output_type": "execute_result",
          "data": {
            "text/plain": [
              "<keras.src.callbacks.history.History at 0x7bb8b2d6fee0>"
            ]
          },
          "metadata": {},
          "execution_count": 8
        }
      ]
    },
    {
      "cell_type": "code",
      "source": [
        "# Evaluate the stacked RNN\n",
        "test_loss, test_acc = model_stacked.evaluate(x_test, y_test)\n",
        "print(f\"Stacked RNN Test Accuracy: {test_acc}\")"
      ],
      "metadata": {
        "colab": {
          "base_uri": "https://localhost:8080/"
        },
        "id": "EWoPsFyh49b7",
        "outputId": "180cd280-acdd-47e8-84cb-d0be81e6b963"
      },
      "execution_count": 9,
      "outputs": [
        {
          "output_type": "stream",
          "name": "stdout",
          "text": [
            "\u001b[1m782/782\u001b[0m \u001b[32m━━━━━━━━━━━━━━━━━━━━\u001b[0m\u001b[37m\u001b[0m \u001b[1m46s\u001b[0m 59ms/step - accuracy: 0.7815 - loss: 0.7500\n",
            "Stacked RNN Test Accuracy: 0.7806400060653687\n"
          ]
        }
      ]
    },
    {
      "cell_type": "markdown",
      "source": [
        "Bi-directional RNN:"
      ],
      "metadata": {
        "id": "jhVx9Uwf5BjY"
      }
    },
    {
      "cell_type": "code",
      "source": [
        "from tensorflow.keras.layers import Bidirectional"
      ],
      "metadata": {
        "id": "SrmlxnoA5CXb"
      },
      "execution_count": 10,
      "outputs": []
    },
    {
      "cell_type": "code",
      "source": [
        "# Bi-directional RNN model\n",
        "model_bi = Sequential()\n",
        "model_bi.add(Embedding(max_features, 32))\n",
        "model_bi.add(Bidirectional(SimpleRNN(32)))  # Bi-directional RNN\n",
        "model_bi.add(Dense(1, activation='sigmoid'))"
      ],
      "metadata": {
        "id": "b4-8BCv45Fty"
      },
      "execution_count": 11,
      "outputs": []
    },
    {
      "cell_type": "code",
      "source": [
        "# Compile and train\n",
        "model_bi.compile(optimizer='adam', loss='binary_crossentropy', metrics=['accuracy'])\n",
        "model_bi.fit(x_train, y_train, epochs=5, batch_size=64, validation_split=0.2)"
      ],
      "metadata": {
        "colab": {
          "base_uri": "https://localhost:8080/"
        },
        "id": "VTtYV23p5Ifi",
        "outputId": "dcb1441e-5bc9-49c5-f62d-5bcb6e26a1bb"
      },
      "execution_count": 12,
      "outputs": [
        {
          "output_type": "stream",
          "name": "stdout",
          "text": [
            "Epoch 1/5\n",
            "\u001b[1m313/313\u001b[0m \u001b[32m━━━━━━━━━━━━━━━━━━━━\u001b[0m\u001b[37m\u001b[0m \u001b[1m87s\u001b[0m 265ms/step - accuracy: 0.5287 - loss: 0.6917 - val_accuracy: 0.6490 - val_loss: 0.6352\n",
            "Epoch 2/5\n",
            "\u001b[1m313/313\u001b[0m \u001b[32m━━━━━━━━━━━━━━━━━━━━\u001b[0m\u001b[37m\u001b[0m \u001b[1m144s\u001b[0m 271ms/step - accuracy: 0.7548 - loss: 0.5290 - val_accuracy: 0.7554 - val_loss: 0.5049\n",
            "Epoch 3/5\n",
            "\u001b[1m313/313\u001b[0m \u001b[32m━━━━━━━━━━━━━━━━━━━━\u001b[0m\u001b[37m\u001b[0m \u001b[1m84s\u001b[0m 268ms/step - accuracy: 0.8541 - loss: 0.3540 - val_accuracy: 0.8328 - val_loss: 0.4121\n",
            "Epoch 4/5\n",
            "\u001b[1m313/313\u001b[0m \u001b[32m━━━━━━━━━━━━━━━━━━━━\u001b[0m\u001b[37m\u001b[0m \u001b[1m84s\u001b[0m 268ms/step - accuracy: 0.9236 - loss: 0.2021 - val_accuracy: 0.7880 - val_loss: 0.4798\n",
            "Epoch 5/5\n",
            "\u001b[1m313/313\u001b[0m \u001b[32m━━━━━━━━━━━━━━━━━━━━\u001b[0m\u001b[37m\u001b[0m \u001b[1m141s\u001b[0m 266ms/step - accuracy: 0.9705 - loss: 0.0992 - val_accuracy: 0.8008 - val_loss: 0.5288\n"
          ]
        },
        {
          "output_type": "execute_result",
          "data": {
            "text/plain": [
              "<keras.src.callbacks.history.History at 0x7bb8adec2290>"
            ]
          },
          "metadata": {},
          "execution_count": 12
        }
      ]
    },
    {
      "cell_type": "code",
      "source": [
        "# Evaluate the bi-directional RNN\n",
        "test_loss, test_acc = model_bi.evaluate(x_test, y_test)\n",
        "print(f\"Bi-directional RNN Test Accuracy: {test_acc}\")"
      ],
      "metadata": {
        "colab": {
          "base_uri": "https://localhost:8080/"
        },
        "id": "TFP3Nyzz5K_c",
        "outputId": "6d33e238-24ce-4752-82d1-e6cca19fd3fa"
      },
      "execution_count": 13,
      "outputs": [
        {
          "output_type": "stream",
          "name": "stdout",
          "text": [
            "\u001b[1m782/782\u001b[0m \u001b[32m━━━━━━━━━━━━━━━━━━━━\u001b[0m\u001b[37m\u001b[0m \u001b[1m35s\u001b[0m 45ms/step - accuracy: 0.8008 - loss: 0.5363\n",
            "Bi-directional RNN Test Accuracy: 0.8032400012016296\n"
          ]
        }
      ]
    },
    {
      "cell_type": "markdown",
      "source": [
        "3. Hybrid Model (RNN + Attention)"
      ],
      "metadata": {
        "id": "xIhfYaXo5Qk_"
      }
    },
    {
      "cell_type": "code",
      "source": [
        "from tensorflow.keras.layers import LSTM, Attention, Input\n",
        "from tensorflow.keras.models import Model"
      ],
      "metadata": {
        "id": "LLv1iH8i5RSX"
      },
      "execution_count": 14,
      "outputs": []
    },
    {
      "cell_type": "code",
      "source": [
        "# Define the input layer\n",
        "inputs = Input(shape=(max_len,))"
      ],
      "metadata": {
        "id": "7ko-RGpF5YMa"
      },
      "execution_count": 15,
      "outputs": []
    },
    {
      "cell_type": "code",
      "source": [
        "# Embedding layer\n",
        "embedding_layer = Embedding(max_features, 32)(inputs)"
      ],
      "metadata": {
        "id": "GtkHXiIV5cjK"
      },
      "execution_count": 16,
      "outputs": []
    },
    {
      "cell_type": "code",
      "source": [
        "# LSTM layer (RNN)\n",
        "lstm_layer = LSTM(32, return_sequences=True)(embedding_layer)"
      ],
      "metadata": {
        "id": "ac9Tg1eS5fsg"
      },
      "execution_count": 17,
      "outputs": []
    },
    {
      "cell_type": "code",
      "source": [
        "# Attention mechanism\n",
        "attention_output = Attention()([lstm_layer, lstm_layer])"
      ],
      "metadata": {
        "id": "JFjI2ucx5iG8"
      },
      "execution_count": 18,
      "outputs": []
    },
    {
      "cell_type": "code",
      "source": [
        "# Dense output layer for binary classification\n",
        "output = Dense(1, activation='sigmoid')(attention_output[:, -1, :])"
      ],
      "metadata": {
        "id": "8CaLuXYe5i8O"
      },
      "execution_count": 19,
      "outputs": []
    },
    {
      "cell_type": "code",
      "source": [
        "# Build and compile the hybrid model\n",
        "hybrid_model = Model(inputs=inputs, outputs=output)\n",
        "hybrid_model.compile(optimizer='adam', loss='binary_crossentropy', metrics=['accuracy'])"
      ],
      "metadata": {
        "id": "IZTehMjP5m29"
      },
      "execution_count": 20,
      "outputs": []
    },
    {
      "cell_type": "code",
      "source": [
        "# Train the hybrid model\n",
        "hybrid_model.fit(x_train, y_train, epochs=5, batch_size=64, validation_split=0.2)"
      ],
      "metadata": {
        "colab": {
          "base_uri": "https://localhost:8080/"
        },
        "id": "JDU8SdHK5rr8",
        "outputId": "a976903a-70f9-4bdc-b1ec-f7332b39f059"
      },
      "execution_count": 21,
      "outputs": [
        {
          "output_type": "stream",
          "name": "stdout",
          "text": [
            "Epoch 1/5\n",
            "\u001b[1m313/313\u001b[0m \u001b[32m━━━━━━━━━━━━━━━━━━━━\u001b[0m\u001b[37m\u001b[0m \u001b[1m231s\u001b[0m 728ms/step - accuracy: 0.6051 - loss: 0.6310 - val_accuracy: 0.7848 - val_loss: 0.4864\n",
            "Epoch 2/5\n",
            "\u001b[1m313/313\u001b[0m \u001b[32m━━━━━━━━━━━━━━━━━━━━\u001b[0m\u001b[37m\u001b[0m \u001b[1m224s\u001b[0m 717ms/step - accuracy: 0.8835 - loss: 0.3050 - val_accuracy: 0.8816 - val_loss: 0.3022\n",
            "Epoch 3/5\n",
            "\u001b[1m313/313\u001b[0m \u001b[32m━━━━━━━━━━━━━━━━━━━━\u001b[0m\u001b[37m\u001b[0m \u001b[1m321s\u001b[0m 908ms/step - accuracy: 0.9229 - loss: 0.2122 - val_accuracy: 0.8838 - val_loss: 0.3006\n",
            "Epoch 4/5\n",
            "\u001b[1m313/313\u001b[0m \u001b[32m━━━━━━━━━━━━━━━━━━━━\u001b[0m\u001b[37m\u001b[0m \u001b[1m282s\u001b[0m 780ms/step - accuracy: 0.9411 - loss: 0.1680 - val_accuracy: 0.8798 - val_loss: 0.3076\n",
            "Epoch 5/5\n",
            "\u001b[1m313/313\u001b[0m \u001b[32m━━━━━━━━━━━━━━━━━━━━\u001b[0m\u001b[37m\u001b[0m \u001b[1m252s\u001b[0m 748ms/step - accuracy: 0.9586 - loss: 0.1313 - val_accuracy: 0.8804 - val_loss: 0.3169\n"
          ]
        },
        {
          "output_type": "execute_result",
          "data": {
            "text/plain": [
              "<keras.src.callbacks.history.History at 0x7bb8aa8b3400>"
            ]
          },
          "metadata": {},
          "execution_count": 21
        }
      ]
    },
    {
      "cell_type": "code",
      "source": [
        "# Evaluate the hybrid model\n",
        "test_loss, test_acc = hybrid_model.evaluate(x_test, y_test)\n",
        "print(f\"Hybrid Model Test Accuracy: {test_acc}\")"
      ],
      "metadata": {
        "colab": {
          "base_uri": "https://localhost:8080/"
        },
        "id": "V9r4wRrq5shm",
        "outputId": "51ca121c-38b0-43f7-f0e0-1b3c536ab52c"
      },
      "execution_count": 22,
      "outputs": [
        {
          "output_type": "stream",
          "name": "stdout",
          "text": [
            "\u001b[1m782/782\u001b[0m \u001b[32m━━━━━━━━━━━━━━━━━━━━\u001b[0m\u001b[37m\u001b[0m \u001b[1m95s\u001b[0m 121ms/step - accuracy: 0.8697 - loss: 0.3425\n",
            "Hybrid Model Test Accuracy: 0.8703600168228149\n"
          ]
        }
      ]
    },
    {
      "cell_type": "markdown",
      "source": [
        "Performance Comparison"
      ],
      "metadata": {
        "id": "bfy-PU2Z5xgS"
      }
    },
    {
      "cell_type": "code",
      "source": [
        "# Evaluate the models and print their accuracy\n",
        "basic_acc = model.evaluate(x_test, y_test)[1]\n",
        "stacked_acc = model_stacked.evaluate(x_test, y_test)[1]\n",
        "bi_acc = model_bi.evaluate(x_test, y_test)[1]\n",
        "hybrid_acc = hybrid_model.evaluate(x_test, y_test)[1]"
      ],
      "metadata": {
        "colab": {
          "base_uri": "https://localhost:8080/"
        },
        "id": "sX296B2h50Mq",
        "outputId": "a8753430-a85c-45f0-fdf3-24f4498f6b84"
      },
      "execution_count": 23,
      "outputs": [
        {
          "output_type": "stream",
          "name": "stdout",
          "text": [
            "\u001b[1m782/782\u001b[0m \u001b[32m━━━━━━━━━━━━━━━━━━━━\u001b[0m\u001b[37m\u001b[0m \u001b[1m25s\u001b[0m 32ms/step - accuracy: 0.8264 - loss: 0.5683\n",
            "\u001b[1m782/782\u001b[0m \u001b[32m━━━━━━━━━━━━━━━━━━━━\u001b[0m\u001b[37m\u001b[0m \u001b[1m48s\u001b[0m 61ms/step - accuracy: 0.7815 - loss: 0.7500\n",
            "\u001b[1m782/782\u001b[0m \u001b[32m━━━━━━━━━━━━━━━━━━━━\u001b[0m\u001b[37m\u001b[0m \u001b[1m38s\u001b[0m 49ms/step - accuracy: 0.8008 - loss: 0.5363\n",
            "\u001b[1m782/782\u001b[0m \u001b[32m━━━━━━━━━━━━━━━━━━━━\u001b[0m\u001b[37m\u001b[0m \u001b[1m98s\u001b[0m 125ms/step - accuracy: 0.8697 - loss: 0.3425\n"
          ]
        }
      ]
    },
    {
      "cell_type": "code",
      "source": [
        "print(f\"Basic RNN Accuracy: {basic_acc}\")\n",
        "print(f\"Stacked RNN Accuracy: {stacked_acc}\")\n",
        "print(f\"Bi-directional RNN Accuracy: {bi_acc}\")\n",
        "print(f\"Hybrid Model Accuracy: {hybrid_acc}\")"
      ],
      "metadata": {
        "colab": {
          "base_uri": "https://localhost:8080/"
        },
        "id": "nfzm2BwD54tU",
        "outputId": "d6007305-af3a-4761-a0fe-c5481a95cb59"
      },
      "execution_count": 24,
      "outputs": [
        {
          "output_type": "stream",
          "name": "stdout",
          "text": [
            "Basic RNN Accuracy: 0.8256400227546692\n",
            "Stacked RNN Accuracy: 0.7806400060653687\n",
            "Bi-directional RNN Accuracy: 0.8032400012016296\n",
            "Hybrid Model Accuracy: 0.8703600168228149\n"
          ]
        }
      ]
    }
  ]
}