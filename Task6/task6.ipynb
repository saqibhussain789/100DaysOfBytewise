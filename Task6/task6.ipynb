{
 "cells": [
  {
   "cell_type": "code",
   "execution_count": 1,
   "metadata": {},
   "outputs": [
    {
     "name": "stdout",
     "output_type": "stream",
     "text": [
      "First 5 rows of the Iris dataset:\n",
      "   sepal length (cm)  sepal width (cm)  petal length (cm)  petal width (cm)\n",
      "0                5.1               3.5                1.4               0.2\n",
      "1                4.9               3.0                1.4               0.2\n",
      "2                4.7               3.2                1.3               0.2\n",
      "3                4.6               3.1                1.5               0.2\n",
      "4                5.0               3.6                1.4               0.2\n"
     ]
    }
   ],
   "source": [
    "from sklearn import datasets\n",
    "import pandas as pd\n",
    "\n",
    "# Load the Iris dataset\n",
    "iris = datasets.load_iris()\n",
    "\n",
    "# Convert to DataFrame\n",
    "iris_df = pd.DataFrame(data=iris.data, columns=iris.feature_names)\n",
    "\n",
    "# Print the first 5 rows\n",
    "print(\"First 5 rows of the Iris dataset:\")\n",
    "print(iris_df.head())\n"
   ]
  },
  {
   "cell_type": "code",
   "execution_count": 2,
   "metadata": {},
   "outputs": [
    {
     "name": "stdout",
     "output_type": "stream",
     "text": [
      "\n",
      "Number of samples: 150, Number of features: 4\n"
     ]
    }
   ],
   "source": [
    "def dataset_info(dataset):\n",
    "    n_samples, n_features = dataset.shape\n",
    "    return n_samples, n_features\n",
    "\n",
    "# Get number of samples and features\n",
    "n_samples, n_features = dataset_info(iris_df)\n",
    "print(f\"\\nNumber of samples: {n_samples}, Number of features: {n_features}\")\n"
   ]
  },
  {
   "cell_type": "code",
   "execution_count": 3,
   "metadata": {},
   "outputs": [
    {
     "name": "stdout",
     "output_type": "stream",
     "text": [
      "\n",
      "Training set size: 120, Testing set size: 30\n"
     ]
    }
   ],
   "source": [
    "from sklearn.model_selection import train_test_split\n",
    "\n",
    "# Split the dataset\n",
    "X_train, X_test, y_train, y_test = train_test_split(iris.data, iris.target, test_size=0.2, random_state=42)\n",
    "print(f\"\\nTraining set size: {X_train.shape[0]}, Testing set size: {X_test.shape[0]}\")\n"
   ]
  },
  {
   "cell_type": "code",
   "execution_count": 4,
   "metadata": {},
   "outputs": [
    {
     "name": "stdout",
     "output_type": "stream",
     "text": [
      "\n",
      "Basic statistics of the dataset:\n",
      "       sepal length (cm)  sepal width (cm)  petal length (cm)  \\\n",
      "count         150.000000        150.000000         150.000000   \n",
      "mean            5.843333          3.057333           3.758000   \n",
      "std             0.828066          0.435866           1.765298   \n",
      "min             4.300000          2.000000           1.000000   \n",
      "25%             5.100000          2.800000           1.600000   \n",
      "50%             5.800000          3.000000           4.350000   \n",
      "75%             6.400000          3.300000           5.100000   \n",
      "max             7.900000          4.400000           6.900000   \n",
      "\n",
      "       petal width (cm)  \n",
      "count        150.000000  \n",
      "mean           1.199333  \n",
      "std            0.762238  \n",
      "min            0.100000  \n",
      "25%            0.300000  \n",
      "50%            1.300000  \n",
      "75%            1.800000  \n",
      "max            2.500000  \n"
     ]
    }
   ],
   "source": [
    "# Print basic statistics of the dataset\n",
    "print(\"\\nBasic statistics of the dataset:\")\n",
    "print(iris_df.describe())\n"
   ]
  },
  {
   "cell_type": "code",
   "execution_count": 5,
   "metadata": {},
   "outputs": [
    {
     "data": {
      "image/png": "[encoded data removed]",
      "text/plain": [
       "<Figure size 640x480 with 1 Axes>"
      ]
     },
     "metadata": {},
     "output_type": "display_data"
    }
   ],
   "source": [
    "import matplotlib.pyplot as plt\n",
    "\n",
    "# Visualize the distribution of the first feature\n",
    "plt.hist(iris_df[iris.feature_names[0]], bins=20, edgecolor='k')\n",
    "plt.title(f\"Distribution of {iris.feature_names[0]}\")\n",
    "plt.xlabel(iris.feature_names[0])\n",
    "plt.ylabel(\"Frequency\")\n",
    "plt.show()\n"
   ]
  },
  {
   "cell_type": "code",
   "execution_count": 6,
   "metadata": {},
   "outputs": [
    {
     "name": "stdout",
     "output_type": "stream",
     "text": [
      "\n",
      "Mean of the list of numbers: 5.5\n"
     ]
    }
   ],
   "source": [
    "import numpy as np\n",
    "\n",
    "# Create a list of 10 numbers\n",
    "numbers = [1, 2, 3, 4, 5, 6, 7, 8, 9, 10]\n",
    "\n",
    "# Compute the mean\n",
    "mean_numbers = np.mean(numbers)\n",
    "print(f\"\\nMean of the list of numbers: {mean_numbers}\")\n"
   ]
  },
  {
   "cell_type": "code",
   "execution_count": 7,
   "metadata": {},
   "outputs": [
    {
     "name": "stdout",
     "output_type": "stream",
     "text": [
      "\n",
      "Statistics of the list: {'count': 10, 'mean': 5.5, 'median': 5.5, 'std_dev': 2.8722813232690143}\n"
     ]
    }
   ],
   "source": [
    "def stats(numbers):\n",
    "    return {\n",
    "        \"count\": len(numbers),\n",
    "        \"mean\": np.mean(numbers),\n",
    "        \"median\": np.median(numbers),\n",
    "        \"std_dev\": np.std(numbers)\n",
    "    }\n",
    "\n",
    "# Get statistics of the list\n",
    "numbers_stats = stats(numbers)\n",
    "print(f\"\\nStatistics of the list: {numbers_stats}\")\n"
   ]
  },
  {
   "cell_type": "code",
   "execution_count": 8,
   "metadata": {},
   "outputs": [
    {
     "name": "stdout",
     "output_type": "stream",
     "text": [
      "\n",
      "5x5 matrix of random numbers:\n",
      "[[0.97486427 0.80262774 0.39931408 0.89743052 0.06875571]\n",
      " [0.92696826 0.39524104 0.48804078 0.83547424 0.81766846]\n",
      " [0.89770958 0.69137431 0.94119502 0.35378415 0.55781672]\n",
      " [0.33007589 0.49832408 0.59717479 0.92517732 0.19310228]\n",
      " [0.84186161 0.76040968 0.7850916  0.55651121 0.62386555]]\n"
     ]
    }
   ],
   "source": [
    "# Generate a 5x5 matrix of random numbers\n",
    "random_matrix = np.random.rand(5, 5)\n",
    "\n",
    "# Print the matrix\n",
    "print(\"\\n5x5 matrix of random numbers:\")\n",
    "print(random_matrix)\n"
   ]
  },
  {
   "cell_type": "code",
   "execution_count": 9,
   "metadata": {},
   "outputs": [
    {
     "name": "stdout",
     "output_type": "stream",
     "text": [
      "\n",
      "Summary statistics of the CSV file:\n",
      "               A          B          C\n",
      "count   4.000000   4.000000   4.000000\n",
      "mean    5.500000   6.500000   7.500000\n",
      "std     3.872983   3.872983   3.872983\n",
      "min     1.000000   2.000000   3.000000\n",
      "25%     3.250000   4.250000   5.250000\n",
      "50%     5.500000   6.500000   7.500000\n",
      "75%     7.750000   8.750000   9.750000\n",
      "max    10.000000  11.000000  12.000000\n"
     ]
    }
   ],
   "source": [
    "# Create a simple CSV file\n",
    "csv_data = \"\"\"A,B,C\n",
    "1,2,3\n",
    "4,5,6\n",
    "7,8,9\n",
    "10,11,12\n",
    "\"\"\"\n",
    "with open(\"example.csv\", \"w\") as file:\n",
    "    file.write(csv_data)\n",
    "\n",
    "# Load the CSV file into a DataFrame\n",
    "df = pd.read_csv(\"example.csv\")\n",
    "\n",
    "# Print summary statistics\n",
    "print(\"\\nSummary statistics of the CSV file:\")\n",
    "print(df.describe())\n"
   ]
  },
  {
   "cell_type": "code",
   "execution_count": 10,
   "metadata": {},
   "outputs": [
    {
     "name": "stdout",
     "output_type": "stream",
     "text": [
      "\n",
      "Linear Regression model coefficients:\n",
      "[-0.11633479 -0.05977785  0.25491375  0.54759598]\n"
     ]
    }
   ],
   "source": [
    "from sklearn.linear_model import LinearRegression\n",
    "\n",
    "# Create a linear regression model\n",
    "model = LinearRegression()\n",
    "\n",
    "# Fit the model to the training data\n",
    "model.fit(X_train, y_train)\n",
    "\n",
    "# Print the model coefficients\n",
    "print(\"\\nLinear Regression model coefficients:\")\n",
    "print(model.coef_)\n"
   ]
  }
 ],
 "metadata": {
  "kernelspec": {
   "display_name": "Python 3",
   "language": "python",
   "name": "python3"
  },
  "language_info": {
   "codemirror_mode": {
    "name": "ipython",
    "version": 3
   },
   "file_extension": ".py",
   "mimetype": "text/x-python",
   "name": "python",
   "nbconvert_exporter": "python",
   "pygments_lexer": "ipython3",
   "version": "3.12.3"
  }
 },
 "nbformat": 4,
 "nbformat_minor": 2
}
