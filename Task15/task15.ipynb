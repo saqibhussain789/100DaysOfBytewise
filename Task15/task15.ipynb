{
 "cells": [
  {
   "cell_type": "code",
   "execution_count": 1,
   "metadata": {},
   "outputs": [],
   "source": [
    "import pandas as pd\n",
    "import numpy as np\n",
    "from sklearn.model_selection import train_test_split, cross_val_score, GridSearchCV\n",
    "from sklearn.preprocessing import StandardScaler, OneHotEncoder\n",
    "from sklearn.impute import SimpleImputer\n",
    "from sklearn.pipeline import Pipeline\n",
    "from sklearn.compose import ColumnTransformer\n",
    "from sklearn.ensemble import RandomForestClassifier, GradientBoostingClassifier\n",
    "from sklearn.metrics import precision_score, recall_score, f1_score, roc_curve, auc, classification_report, roc_auc_score\n",
    "import matplotlib.pyplot as plt\n",
    "from sklearn.svm import SVC"
   ]
  },
  {
   "cell_type": "code",
   "execution_count": 2,
   "metadata": {},
   "outputs": [],
   "source": [
    "# Load the dataset\n",
    "data = pd.read_csv('adult.csv')"
   ]
  },
  {
   "cell_type": "code",
   "execution_count": 3,
   "metadata": {},
   "outputs": [
    {
     "name": "stdout",
     "output_type": "stream",
     "text": [
      "   age  workclass  fnlwgt     education  educational-num      marital-status  \\\n",
      "0   25    Private  226802          11th                7       Never-married   \n",
      "1   38    Private   89814       HS-grad                9  Married-civ-spouse   \n",
      "2   28  Local-gov  336951    Assoc-acdm               12  Married-civ-spouse   \n",
      "3   44    Private  160323  Some-college               10  Married-civ-spouse   \n",
      "4   18          ?  103497  Some-college               10       Never-married   \n",
      "\n",
      "          occupation relationship   race  gender  capital-gain  capital-loss  \\\n",
      "0  Machine-op-inspct    Own-child  Black    Male             0             0   \n",
      "1    Farming-fishing      Husband  White    Male             0             0   \n",
      "2    Protective-serv      Husband  White    Male             0             0   \n",
      "3  Machine-op-inspct      Husband  Black    Male          7688             0   \n",
      "4                  ?    Own-child  White  Female             0             0   \n",
      "\n",
      "   hours-per-week native-country income  \n",
      "0              40  United-States  <=50K  \n",
      "1              50  United-States  <=50K  \n",
      "2              40  United-States   >50K  \n",
      "3              40  United-States   >50K  \n",
      "4              30  United-States  <=50K  \n",
      "<class 'pandas.core.frame.DataFrame'>\n",
      "RangeIndex: 48842 entries, 0 to 48841\n",
      "Data columns (total 15 columns):\n",
      " #   Column           Non-Null Count  Dtype \n",
      "---  ------           --------------  ----- \n",
      " 0   age              48842 non-null  int64 \n",
      " 1   workclass        48842 non-null  object\n",
      " 2   fnlwgt           48842 non-null  int64 \n",
      " 3   education        48842 non-null  object\n",
      " 4   educational-num  48842 non-null  int64 \n",
      " 5   marital-status   48842 non-null  object\n",
      " 6   occupation       48842 non-null  object\n",
      " 7   relationship     48842 non-null  object\n",
      " 8   race             48842 non-null  object\n",
      " 9   gender           48842 non-null  object\n",
      " 10  capital-gain     48842 non-null  int64 \n",
      " 11  capital-loss     48842 non-null  int64 \n",
      " 12  hours-per-week   48842 non-null  int64 \n",
      " 13  native-country   48842 non-null  object\n",
      " 14  income           48842 non-null  object\n",
      "dtypes: int64(6), object(9)\n",
      "memory usage: 5.6+ MB\n",
      "None\n",
      "Columns in the dataset: ['age', 'workclass', 'fnlwgt', 'education', 'educational-num', 'marital-status', 'occupation', 'relationship', 'race', 'gender', 'capital-gain', 'capital-loss', 'hours-per-week', 'native-country', 'income']\n"
     ]
    }
   ],
   "source": [
    "# Display the first few rows and the structure of the dataset\n",
    "print(data.head())\n",
    "print(data.info())\n",
    "print(\"Columns in the dataset:\", data.columns.tolist())"
   ]
  },
  {
   "cell_type": "code",
   "execution_count": 4,
   "metadata": {},
   "outputs": [],
   "source": [
    "# Define target and features\n",
    "target = 'income'   \n",
    "features = data.columns.drop([target]).tolist()"
   ]
  },
  {
   "cell_type": "code",
   "execution_count": 5,
   "metadata": {},
   "outputs": [],
   "source": [
    "# Split the data into features and target\n",
    "X = data[features]\n",
    "y = data[target]"
   ]
  },
  {
   "cell_type": "code",
   "execution_count": 6,
   "metadata": {},
   "outputs": [],
   "source": [
    "# Identify categorical and numerical columns\n",
    "categorical_cols = X.select_dtypes(include=['object', 'category']).columns.tolist()\n",
    "numerical_cols = X.select_dtypes(include=['int64', 'float64']).columns.tolist()\n"
   ]
  },
  {
   "cell_type": "code",
   "execution_count": 7,
   "metadata": {},
   "outputs": [],
   "source": [
    "# Preprocessing pipeline for numerical features\n",
    "numeric_transformer = Pipeline(steps=[\n",
    "    ('imputer', SimpleImputer(strategy='mean')),\n",
    "    ('scaler', StandardScaler())\n",
    "])\n",
    "\n",
    "# Preprocessing pipeline for categorical features\n",
    "categorical_transformer = Pipeline(steps=[\n",
    "    ('imputer', SimpleImputer(strategy='most_frequent')),\n",
    "    ('onehot', OneHotEncoder(handle_unknown='ignore'))\n",
    "])\n",
    "\n",
    "# Combine preprocessing steps\n",
    "preprocessor = ColumnTransformer(\n",
    "    transformers=[\n",
    "        ('num', numeric_transformer, numerical_cols),\n",
    "        ('cat', categorical_transformer, categorical_cols)\n",
    "    ])"
   ]
  },
  {
   "cell_type": "code",
   "execution_count": 8,
   "metadata": {},
   "outputs": [],
   "source": [
    "# Applying Cross-Validation to Random Forest Classifier\n",
    "def random_forest_cross_validation(X, y):\n",
    "    model = Pipeline(steps=[\n",
    "        ('preprocessor', preprocessor),\n",
    "        ('classifier', RandomForestClassifier(random_state=42))\n",
    "    ])\n",
    "    scores = cross_val_score(model, X, y, cv=5)\n",
    "    print(\"Random Forest Cross-Validation Scores:\", scores)\n",
    "    print(\"Mean Cross-Validation Score:\", scores.mean())\n"
   ]
  },
  {
   "cell_type": "code",
   "execution_count": 9,
   "metadata": {},
   "outputs": [],
   "source": [
    "# Investigating Overfitting and Underfitting in Gradient Boosting Machines\n",
    "def gradient_boosting_analysis(X, y):\n",
    "    train_scores, test_scores = [], []\n",
    "    for n_estimators in [50, 100, 150, 200]:\n",
    "        for learning_rate in [0.01, 0.1, 0.2, 0.3]:\n",
    "            model = Pipeline(steps=[\n",
    "                ('preprocessor', preprocessor),\n",
    "                ('classifier', GradientBoostingClassifier(n_estimators=n_estimators, learning_rate=learning_rate, random_state=42))\n",
    "            ])\n",
    "            X_train, X_test, y_train, y_test = train_test_split(X, y, test_size=0.2, random_state=42)\n",
    "            model.fit(X_train, y_train)\n",
    "            train_scores.append(model.score(X_train, y_train))\n",
    "            test_scores.append(model.score(X_test, y_test))\n",
    "            print(f\"n_estimators: {n_estimators}, learning_rate: {learning_rate}, Train Score: {train_scores[-1]}, Test Score: {test_scores[-1]}\")"
   ]
  },
  {
   "cell_type": "code",
   "execution_count": 10,
   "metadata": {},
   "outputs": [],
   "source": [
    "# Evaluating Precision, Recall, and F1-Score for Random Forests\n",
    "def random_forest_metrics(X, y):\n",
    "    model = Pipeline(steps=[\n",
    "        ('preprocessor', preprocessor),\n",
    "        ('classifier', RandomForestClassifier(random_state=42))\n",
    "    ])\n",
    "    X_train, X_test, y_train, y_test = train_test_split(X, y, test_size=0.2, random_state=42)\n",
    "    model.fit(X_train, y_train)\n",
    "    y_pred = model.predict(X_test)\n",
    "    print(\"Precision:\", precision_score(y_test, y_pred, pos_label='>50K'))\n",
    "    print(\"Recall:\", recall_score(y_test, y_pred, pos_label='>50K'))\n",
    "    print(\"F1-Score:\", f1_score(y_test, y_pred, pos_label='>50K'))\n"
   ]
  },
  {
   "cell_type": "code",
   "execution_count": 11,
   "metadata": {},
   "outputs": [],
   "source": [
    "# ROC Curve and AUC for Gradient Boosting Classifier\n",
    "def gradient_boosting_roc_analysis(X, y):\n",
    "    model = Pipeline(steps=[\n",
    "        ('preprocessor', preprocessor),\n",
    "        ('classifier', GradientBoostingClassifier(random_state=42))\n",
    "    ])\n",
    "    X_train, X_test, y_train, y_test = train_test_split(X, y, test_size=0.2, random_state=42)\n",
    "    model.fit(X_train, y_train)\n",
    "    y_pred_proba = model.predict_proba(X_test)[:, 1]\n",
    "    fpr, tpr, _ = roc_curve(y_test, y_pred_proba, pos_label='>50K')\n",
    "    roc_auc = auc(fpr, tpr)\n",
    "    plt.figure()\n",
    "    plt.plot(fpr, tpr, color='darkorange', lw=2, label='ROC curve (area = %0.2f)' % roc_auc)\n",
    "    plt.plot([0, 1], [0, 1], color='navy', lw=2, linestyle='--')\n",
    "    plt.xlim([0.0, 1.0])\n",
    "    plt.ylim([0.0, 1.05])\n",
    "    plt.xlabel('False Positive Rate')\n",
    "    plt.ylabel('True Positive Rate')\n",
    "    plt.title('Receiver Operating Characteristic')\n",
    "    plt.legend(loc=\"lower right\")\n",
    "    plt.show()\n",
    "    print(\"AUC:\", roc_auc)"
   ]
  },
  {
   "cell_type": "code",
   "execution_count": 12,
   "metadata": {},
   "outputs": [],
   "source": [
    "# Model Performance Comparison with Different Metrics\n",
    "def model_performance_comparison(X, y):\n",
    "    models = [\n",
    "        ('Random Forest', RandomForestClassifier(random_state=42)),\n",
    "        ('Gradient Boosting', GradientBoostingClassifier(random_state=42)),\n",
    "        ('SVM', SVC(probability=True, random_state=42))\n",
    "    ]\n",
    "    for name, model in models:\n",
    "        pipeline = Pipeline(steps=[\n",
    "            ('preprocessor', preprocessor),\n",
    "            ('classifier', model)\n",
    "        ])\n",
    "        X_train, X_test, y_train, y_test = train_test_split(X, y, test_size=0.2, random_state=42)\n",
    "        pipeline.fit(X_train, y_train)\n",
    "        y_pred = pipeline.predict(X_test)\n",
    "        y_pred_proba = pipeline.predict_proba(X_test)[:, 1] if hasattr(model, \"predict_proba\") else None\n",
    "        print(f\"{name} Model Performance:\")\n",
    "        print(\"Accuracy:\", pipeline.score(X_test, y_test))\n",
    "        print(\"Precision:\", precision_score(y_test, y_pred, pos_label='>50K'))\n",
    "        print(\"Recall:\", recall_score(y_test, y_pred, pos_label='>50K'))\n",
    "        print(\"F1-Score:\", f1_score(y_test, y_pred, pos_label='>50K'))\n",
    "        if y_pred_proba is not None:\n",
    "            fpr, tpr, _ = roc_curve(y_test, y_pred_proba, pos_label='>50K')\n",
    "            roc_auc = auc(fpr, tpr)\n",
    "            print(\"ROC AUC:\", roc_auc)\n",
    "        print(classification_report(y_test, y_pred))\n"
   ]
  },
  {
   "cell_type": "code",
   "execution_count": 13,
   "metadata": {},
   "outputs": [
    {
     "name": "stdout",
     "output_type": "stream",
     "text": [
      "Random Forest Cross-Validation Scores: [0.85146893 0.85034292 0.85053235 0.85769861 0.86046274]\n",
      "Mean Cross-Validation Score: 0.8541011095034025\n"
     ]
    }
   ],
   "source": [
    "# Applying Cross-Validation to Random Forest Classifier\n",
    "random_forest_cross_validation(X, y)\n"
   ]
  },
  {
   "cell_type": "code",
   "execution_count": 14,
   "metadata": {},
   "outputs": [
    {
     "name": "stdout",
     "output_type": "stream",
     "text": [
      "n_estimators: 50, learning_rate: 0.01, Train Score: 0.8035983927520283, Test Score: 0.8108301770907974\n",
      "n_estimators: 50, learning_rate: 0.1, Train Score: 0.8608757965858778, Test Score: 0.8663118026410073\n",
      "n_estimators: 50, learning_rate: 0.2, Train Score: 0.8686305121183426, Test Score: 0.8734773262360528\n",
      "n_estimators: 50, learning_rate: 0.3, Train Score: 0.873365239423643, Test Score: 0.8776742757702938\n",
      "n_estimators: 100, learning_rate: 0.01, Train Score: 0.8442914544570419, Test Score: 0.8510594738458389\n",
      "n_estimators: 100, learning_rate: 0.1, Train Score: 0.8680418703452512, Test Score: 0.874091513972771\n",
      "n_estimators: 100, learning_rate: 0.2, Train Score: 0.8751823509840555, Test Score: 0.8776742757702938\n",
      "n_estimators: 100, learning_rate: 0.3, Train Score: 0.8795331814808179, Test Score: 0.8785955573753711\n",
      "n_estimators: 150, learning_rate: 0.01, Train Score: 0.8468251733933918, Test Score: 0.8535162247927116\n",
      "n_estimators: 150, learning_rate: 0.1, Train Score: 0.8720599902746142, Test Score: 0.8762411710512846\n",
      "n_estimators: 150, learning_rate: 0.2, Train Score: 0.87914928467228, Test Score: 0.877162452656362\n",
      "n_estimators: 150, learning_rate: 0.3, Train Score: 0.8833209633250583, Test Score: 0.879414474357662\n",
      "n_estimators: 200, learning_rate: 0.01, Train Score: 0.8499219409822639, Test Score: 0.8547446002661481\n",
      "n_estimators: 200, learning_rate: 0.1, Train Score: 0.8748240472960868, Test Score: 0.8769577234107893\n",
      "n_estimators: 200, learning_rate: 0.2, Train Score: 0.8821180866583063, Test Score: 0.8780837342614393\n",
      "n_estimators: 200, learning_rate: 0.3, Train Score: 0.8870063726870218, Test Score: 0.879414474357662\n"
     ]
    }
   ],
   "source": [
    "# Investigating Overfitting and Underfitting in Gradient Boosting Machines\n",
    "gradient_boosting_analysis(X, y)\n"
   ]
  },
  {
   "cell_type": "code",
   "execution_count": 15,
   "metadata": {},
   "outputs": [
    {
     "name": "stdout",
     "output_type": "stream",
     "text": [
      "Precision: 0.7281265447355413\n",
      "Recall: 0.643231441048035\n",
      "F1-Score: 0.6830512404358915\n"
     ]
    }
   ],
   "source": [
    "# Evaluating Precision, Recall, and F1-Score for Random Forests\n",
    "random_forest_metrics(X, y)\n"
   ]
  },
  {
   "cell_type": "code",
   "execution_count": 16,
   "metadata": {},
   "outputs": [
    {
     "data": {
      "image/png": "[encoded data removed]",
      "text/plain": [
       "<Figure size 640x480 with 1 Axes>"
      ]
     },
     "metadata": {},
     "output_type": "display_data"
    },
    {
     "name": "stdout",
     "output_type": "stream",
     "text": [
      "AUC: 0.9247968839679779\n"
     ]
    }
   ],
   "source": [
    "# ROC Curve and AUC for Gradient Boosting Classifier\n",
    "gradient_boosting_roc_analysis(X, y)\n"
   ]
  },
  {
   "cell_type": "code",
   "execution_count": 17,
   "metadata": {},
   "outputs": [
    {
     "name": "stdout",
     "output_type": "stream",
     "text": [
      "Random Forest Model Performance:\n",
      "Accuracy: 0.860067560651039\n",
      "Precision: 0.7281265447355413\n",
      "Recall: 0.643231441048035\n",
      "F1-Score: 0.6830512404358915\n",
      "ROC AUC: 0.9074853549180792\n",
      "              precision    recall  f1-score   support\n",
      "\n",
      "       <=50K       0.89      0.93      0.91      7479\n",
      "        >50K       0.73      0.64      0.68      2290\n",
      "\n",
      "    accuracy                           0.86      9769\n",
      "   macro avg       0.81      0.78      0.80      9769\n",
      "weighted avg       0.86      0.86      0.86      9769\n",
      "\n",
      "Gradient Boosting Model Performance:\n",
      "Accuracy: 0.874091513972771\n",
      "Precision: 0.7941176470588235\n",
      "Recall: 0.6248908296943232\n",
      "F1-Score: 0.6994134897360704\n",
      "ROC AUC: 0.9247968839679779\n",
      "              precision    recall  f1-score   support\n",
      "\n",
      "       <=50K       0.89      0.95      0.92      7479\n",
      "        >50K       0.79      0.62      0.70      2290\n",
      "\n",
      "    accuracy                           0.87      9769\n",
      "   macro avg       0.84      0.79      0.81      9769\n",
      "weighted avg       0.87      0.87      0.87      9769\n",
      "\n",
      "SVM Model Performance:\n",
      "Accuracy: 0.8629337700890573\n",
      "Precision: 0.7651979921918572\n",
      "Recall: 0.5991266375545852\n",
      "F1-Score: 0.6720548616213569\n",
      "ROC AUC: 0.9058092206942173\n",
      "              precision    recall  f1-score   support\n",
      "\n",
      "       <=50K       0.88      0.94      0.91      7479\n",
      "        >50K       0.77      0.60      0.67      2290\n",
      "\n",
      "    accuracy                           0.86      9769\n",
      "   macro avg       0.83      0.77      0.79      9769\n",
      "weighted avg       0.86      0.86      0.86      9769\n",
      "\n"
     ]
    }
   ],
   "source": [
    "# Model Performance Comparison with Different Metrics\n",
    "model_performance_comparison(X, y)"
   ]
  }
 ],
 "metadata": {
  "kernelspec": {
   "display_name": "Python 3",
   "language": "python",
   "name": "python3"
  },
  "language_info": {
   "codemirror_mode": {
    "name": "ipython",
    "version": 3
   },
   "file_extension": ".py",
   "mimetype": "text/x-python",
   "name": "python",
   "nbconvert_exporter": "python",
   "pygments_lexer": "ipython3",
   "version": "3.12.3"
  }
 },
 "nbformat": 4,
 "nbformat_minor": 2
}
