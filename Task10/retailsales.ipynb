{
 "cells": [
  {
   "cell_type": "code",
   "execution_count": 9,
   "metadata": {},
   "outputs": [],
   "source": [
    "import pandas as pd\n",
    "from sklearn.impute import KNNImputer"
   ]
  },
  {
   "cell_type": "code",
   "execution_count": 10,
   "metadata": {},
   "outputs": [],
   "source": [
    "# Load the Retail Sales dataset\n",
    "retail_sales = pd.read_csv('retail_sales/retail_sales_dataset.csv')"
   ]
  },
  {
   "cell_type": "code",
   "execution_count": 11,
   "metadata": {},
   "outputs": [
    {
     "name": "stdout",
     "output_type": "stream",
     "text": [
      "Retail Sales Dataset Columns:\n",
      "Index(['Transaction ID', 'Date', 'Customer ID', 'Gender', 'Age',\n",
      "       'Product Category', 'Quantity', 'Price per Unit', 'Total Amount'],\n",
      "      dtype='object')\n"
     ]
    }
   ],
   "source": [
    "#Display columns\n",
    "print(\"Retail Sales Dataset Columns:\")\n",
    "print(retail_sales.columns)"
   ]
  },
  {
   "cell_type": "code",
   "execution_count": 12,
   "metadata": {},
   "outputs": [],
   "source": [
    "# Identify non-numerical columns\n",
    "non_numerical_columns = retail_sales.select_dtypes(include=['object']).columns\n",
    "numerical_columns = retail_sales.select_dtypes(exclude=['object']).columns\n"
   ]
  },
  {
   "cell_type": "code",
   "execution_count": 13,
   "metadata": {},
   "outputs": [
    {
     "name": "stdout",
     "output_type": "stream",
     "text": [
      "\n",
      "Non-Numerical Columns:\n",
      "Index(['Date', 'Customer ID', 'Gender', 'Product Category'], dtype='object')\n",
      "\n",
      "Numerical Columns:\n",
      "Index(['Transaction ID', 'Age', 'Quantity', 'Price per Unit', 'Total Amount'], dtype='object')\n"
     ]
    }
   ],
   "source": [
    "print(\"\\nNon-Numerical Columns:\")\n",
    "print(non_numerical_columns)\n",
    "\n",
    "print(\"\\nNumerical Columns:\")\n",
    "print(numerical_columns)"
   ]
  },
  {
   "cell_type": "code",
   "execution_count": 14,
   "metadata": {},
   "outputs": [],
   "source": [
    "# Handle non-numerical columns (for this example, we'll drop them, but you may encode or handle them as needed)\n",
    "retail_sales_numerical = retail_sales[numerical_columns]\n"
   ]
  },
  {
   "cell_type": "code",
   "execution_count": 15,
   "metadata": {},
   "outputs": [],
   "source": [
    "# Apply KNN Imputer\n",
    "knn_imputer = KNNImputer(n_neighbors=5)\n",
    "retail_sales_imputed = pd.DataFrame(knn_imputer.fit_transform(retail_sales_numerical), columns=numerical_columns)\n"
   ]
  },
  {
   "cell_type": "code",
   "execution_count": 16,
   "metadata": {},
   "outputs": [],
   "source": [
    "# Combine with non-numerical data\n",
    "retail_sales_combined = pd.concat([retail_sales[non_numerical_columns].reset_index(drop=True), retail_sales_imputed], axis=1)"
   ]
  },
  {
   "cell_type": "code",
   "execution_count": 17,
   "metadata": {},
   "outputs": [
    {
     "name": "stdout",
     "output_type": "stream",
     "text": [
      "\n",
      "Retail Sales Dataset after KNN Imputation:\n",
      "         Date Customer ID  Gender Product Category  Transaction ID   Age  \\\n",
      "0  2023-11-24     CUST001    Male           Beauty             1.0  34.0   \n",
      "1  2023-02-27     CUST002  Female         Clothing             2.0  26.0   \n",
      "2  2023-01-13     CUST003    Male      Electronics             3.0  50.0   \n",
      "3  2023-05-21     CUST004    Male         Clothing             4.0  37.0   \n",
      "4  2023-05-06     CUST005    Male           Beauty             5.0  30.0   \n",
      "\n",
      "   Quantity  Price per Unit  Total Amount  \n",
      "0       3.0            50.0         150.0  \n",
      "1       2.0           500.0        1000.0  \n",
      "2       1.0            30.0          30.0  \n",
      "3       1.0           500.0         500.0  \n",
      "4       2.0            50.0         100.0  \n"
     ]
    }
   ],
   "source": [
    "# Display the first few rows of the imputed dataset\n",
    "print(\"\\nRetail Sales Dataset after KNN Imputation:\")\n",
    "print(retail_sales_combined.head())"
   ]
  }
 ],
 "metadata": {
  "kernelspec": {
   "display_name": "Python 3",
   "language": "python",
   "name": "python3"
  },
  "language_info": {
   "codemirror_mode": {
    "name": "ipython",
    "version": 3
   },
   "file_extension": ".py",
   "mimetype": "text/x-python",
   "name": "python",
   "nbconvert_exporter": "python",
   "pygments_lexer": "ipython3",
   "version": "3.12.3"
  }
 },
 "nbformat": 4,
 "nbformat_minor": 2
}
