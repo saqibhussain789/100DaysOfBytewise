{
 "cells": [
  {
   "cell_type": "code",
   "execution_count": 1,
   "metadata": {},
   "outputs": [],
   "source": [
    "import pandas as pd\n",
    "import numpy as np\n",
    "\n"
   ]
  },
  {
   "cell_type": "code",
   "execution_count": 2,
   "metadata": {},
   "outputs": [],
   "source": [
    "# Load the Bike Sharing dataset\n",
    "bike_sharing = pd.read_csv('bike+sharing+dataset/day.csv')\n",
    "bike_sharing = pd.read_csv('bike+sharing+dataset/hour.csv')\n"
   ]
  },
  {
   "cell_type": "code",
   "execution_count": 3,
   "metadata": {},
   "outputs": [
    {
     "name": "stdout",
     "output_type": "stream",
     "text": [
      "Bike Sharing Dataset Columns:\n",
      "Index(['instant', 'dteday', 'season', 'yr', 'mnth', 'hr', 'holiday', 'weekday',\n",
      "       'workingday', 'weathersit', 'temp', 'atemp', 'hum', 'windspeed',\n",
      "       'casual', 'registered', 'cnt'],\n",
      "      dtype='object')\n"
     ]
    }
   ],
   "source": [
    "# Display columns\n",
    "print(\"Bike Sharing Dataset Columns:\")\n",
    "print(bike_sharing.columns)"
   ]
  },
  {
   "cell_type": "code",
   "execution_count": 4,
   "metadata": {},
   "outputs": [],
   "source": [
    "# Apply transformations\n",
    "bike_sharing['log_cnt'] = np.log1p(bike_sharing['cnt'])\n",
    "bike_sharing['sqrt_cnt'] = np.sqrt(bike_sharing['cnt'])"
   ]
  },
  {
   "cell_type": "code",
   "execution_count": 5,
   "metadata": {},
   "outputs": [],
   "source": [
    "from scipy.stats import boxcox\n",
    "bike_sharing['boxcox_cnt'], _ = boxcox(bike_sharing['cnt'] + 1)"
   ]
  },
  {
   "cell_type": "code",
   "execution_count": 6,
   "metadata": {},
   "outputs": [
    {
     "name": "stdout",
     "output_type": "stream",
     "text": [
      "Transformed Variables:\n",
      "   cnt   log_cnt  sqrt_cnt  boxcox_cnt\n",
      "0   16  2.833213  4.000000    4.418906\n",
      "1   40  3.713572  6.324555    6.726527\n",
      "2   32  3.496508  5.656854    6.101011\n",
      "3   13  2.639057  3.605551    3.985379\n",
      "4    1  0.693147  1.000000    0.768698\n"
     ]
    }
   ],
   "source": [
    "print(\"Transformed Variables:\")\n",
    "print(bike_sharing[['cnt', 'log_cnt', 'sqrt_cnt', 'boxcox_cnt']].head())"
   ]
  }
 ],
 "metadata": {
  "kernelspec": {
   "display_name": "Python 3",
   "language": "python",
   "name": "python3"
  },
  "language_info": {
   "codemirror_mode": {
    "name": "ipython",
    "version": 3
   },
   "file_extension": ".py",
   "mimetype": "text/x-python",
   "name": "python",
   "nbconvert_exporter": "python",
   "pygments_lexer": "ipython3",
   "version": "3.12.3"
  }
 },
 "nbformat": 4,
 "nbformat_minor": 2
}
