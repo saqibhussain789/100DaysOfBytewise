{
 "cells": [
  {
   "cell_type": "code",
   "execution_count": 3,
   "metadata": {},
   "outputs": [],
   "source": [
    "import pandas as pd\n",
    "import numpy as np"
   ]
  },
  {
   "cell_type": "code",
   "execution_count": 4,
   "metadata": {},
   "outputs": [],
   "source": [
    "# Load the Car Evaluation dataset\n",
    "car_eval = pd.read_csv('car+evaluation/car.data')\n",
    "\n"
   ]
  },
  {
   "cell_type": "code",
   "execution_count": 5,
   "metadata": {},
   "outputs": [
    {
     "name": "stdout",
     "output_type": "stream",
     "text": [
      "Car Evaluation Dataset Columns:\n",
      "Index(['vhigh', 'vhigh.1', '2', '2.1', 'small', 'low', 'unacc'], dtype='object')\n",
      "One-hot Encoded Data:\n",
      "   vhigh_high  vhigh_low  vhigh_med  vhigh_vhigh  vhigh.1_high  vhigh.1_low  \\\n",
      "0       False      False      False         True         False        False   \n",
      "1       False      False      False         True         False        False   \n",
      "2       False      False      False         True         False        False   \n",
      "3       False      False      False         True         False        False   \n",
      "4       False      False      False         True         False        False   \n",
      "\n",
      "   vhigh.1_med  vhigh.1_vhigh   2_2    2_3  ...  small_big  small_med  \\\n",
      "0        False           True  True  False  ...      False      False   \n",
      "1        False           True  True  False  ...      False      False   \n",
      "2        False           True  True  False  ...      False       True   \n",
      "3        False           True  True  False  ...      False       True   \n",
      "4        False           True  True  False  ...      False       True   \n",
      "\n",
      "   small_small  low_high  low_low  low_med  unacc_acc  unacc_good  \\\n",
      "0         True     False    False     True      False       False   \n",
      "1         True      True    False    False      False       False   \n",
      "2        False     False     True    False      False       False   \n",
      "3        False     False    False     True      False       False   \n",
      "4        False      True    False    False      False       False   \n",
      "\n",
      "   unacc_unacc  unacc_vgood  \n",
      "0         True        False  \n",
      "1         True        False  \n",
      "2         True        False  \n",
      "3         True        False  \n",
      "4         True        False  \n",
      "\n",
      "[5 rows x 25 columns]\n",
      "Label Encoded Data:\n",
      "   vhigh  vhigh.1  2  2.1  small  low  unacc\n",
      "0      3        3  0    0      2    2      2\n",
      "1      3        3  0    0      2    0      2\n",
      "2      3        3  0    0      1    1      2\n",
      "3      3        3  0    0      1    2      2\n",
      "4      3        3  0    0      1    0      2\n"
     ]
    }
   ],
   "source": [
    "# Display columns\n",
    "print(\"Car Evaluation Dataset Columns:\")\n",
    "print(car_eval.columns)\n",
    "\n",
    "# One-hot encoding\n",
    "car_eval_one_hot = pd.get_dummies(car_eval)\n",
    "\n",
    "# Label encoding\n",
    "from sklearn.preprocessing import LabelEncoder\n",
    "le = LabelEncoder()\n",
    "car_eval_label_encoded = car_eval.apply(le.fit_transform)\n",
    "\n",
    "print(\"One-hot Encoded Data:\")\n",
    "print(car_eval_one_hot.head())\n",
    "\n",
    "print(\"Label Encoded Data:\")\n",
    "print(car_eval_label_encoded.head())"
   ]
  }
 ],
 "metadata": {
  "kernelspec": {
   "display_name": "Python 3",
   "language": "python",
   "name": "python3"
  },
  "language_info": {
   "codemirror_mode": {
    "name": "ipython",
    "version": 3
   },
   "file_extension": ".py",
   "mimetype": "text/x-python",
   "name": "python",
   "nbconvert_exporter": "python",
   "pygments_lexer": "ipython3",
   "version": "3.12.3"
  }
 },
 "nbformat": 4,
 "nbformat_minor": 2
}
